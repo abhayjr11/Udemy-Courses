{
 "cells": [
  {
   "cell_type": "markdown",
   "id": "0dedccec",
   "metadata": {},
   "source": [
    "# Deep analysis on Business Courses offered by Udemy\n",
    "Dataset: https://www.kaggle.com/datasets/jilkothari/business-courses-udemy-10k-courses\n"
   ]
  },
  {
   "cell_type": "markdown",
   "id": "d4578f50",
   "metadata": {},
   "source": [
    "A compilation of all the BUSINESS related courses ( approx 10 thousand courses) which are available on Udemy's website. Under the Business category, there are courses from Finance, Entrepreneurship, Communication, Management, Sales, Strategy, Operations, Project Management, Business Law, Data & Analytics, Home Business, Human Resources and Industry each having multiple courses under it's domain. All the details can be found on Udemy's website as well!"
   ]
  },
  {
   "cell_type": "code",
   "execution_count": 26,
   "id": "c00f814d",
   "metadata": {},
   "outputs": [],
   "source": [
    "# 1. Import the dataset to notebook\n",
    "import pandas as pd\n",
    "from matplotlib import pyplot as plt\n",
    "\n",
    "data=pd.read_csv(\"C:\\\\Users\\\\HP\\\\OneDrive\\\\Documents\\\\udemy courses\\\\udemy_output_All_Business_p1_p626.csv\")"
   ]
  },
  {
   "cell_type": "code",
   "execution_count": 27,
   "id": "ffb3230f",
   "metadata": {},
   "outputs": [
    {
     "data": {
      "text/html": [
       "<div>\n",
       "<style scoped>\n",
       "    .dataframe tbody tr th:only-of-type {\n",
       "        vertical-align: middle;\n",
       "    }\n",
       "\n",
       "    .dataframe tbody tr th {\n",
       "        vertical-align: top;\n",
       "    }\n",
       "\n",
       "    .dataframe thead th {\n",
       "        text-align: right;\n",
       "    }\n",
       "</style>\n",
       "<table border=\"1\" class=\"dataframe\">\n",
       "  <thead>\n",
       "    <tr style=\"text-align: right;\">\n",
       "      <th></th>\n",
       "      <th>id</th>\n",
       "      <th>title</th>\n",
       "      <th>url</th>\n",
       "      <th>is_paid</th>\n",
       "      <th>num_subscribers</th>\n",
       "      <th>avg_rating</th>\n",
       "      <th>avg_rating_recent</th>\n",
       "      <th>rating</th>\n",
       "      <th>num_reviews</th>\n",
       "      <th>is_wishlisted</th>\n",
       "      <th>num_published_lectures</th>\n",
       "      <th>num_published_practice_tests</th>\n",
       "      <th>created</th>\n",
       "      <th>published_time</th>\n",
       "      <th>discount_price__amount</th>\n",
       "      <th>discount_price__currency</th>\n",
       "      <th>discount_price__price_string</th>\n",
       "      <th>price_detail__amount</th>\n",
       "      <th>price_detail__currency</th>\n",
       "      <th>price_detail__price_string</th>\n",
       "    </tr>\n",
       "  </thead>\n",
       "  <tbody>\n",
       "    <tr>\n",
       "      <th>0</th>\n",
       "      <td>762616</td>\n",
       "      <td>The Complete SQL Bootcamp 2020: Go from Zero t...</td>\n",
       "      <td>/course/the-complete-sql-bootcamp/</td>\n",
       "      <td>True</td>\n",
       "      <td>295509</td>\n",
       "      <td>4.66019</td>\n",
       "      <td>4.67874</td>\n",
       "      <td>4.67874</td>\n",
       "      <td>78006</td>\n",
       "      <td>False</td>\n",
       "      <td>84</td>\n",
       "      <td>0</td>\n",
       "      <td>2016-02-14T22:57:48Z</td>\n",
       "      <td>2016-04-06T05:16:11Z</td>\n",
       "      <td>455.0</td>\n",
       "      <td>INR</td>\n",
       "      <td>₹455</td>\n",
       "      <td>8640.0</td>\n",
       "      <td>INR</td>\n",
       "      <td>₹8,640</td>\n",
       "    </tr>\n",
       "    <tr>\n",
       "      <th>1</th>\n",
       "      <td>937678</td>\n",
       "      <td>Tableau 2020 A-Z: Hands-On Tableau Training fo...</td>\n",
       "      <td>/course/tableau10/</td>\n",
       "      <td>True</td>\n",
       "      <td>209070</td>\n",
       "      <td>4.58956</td>\n",
       "      <td>4.60015</td>\n",
       "      <td>4.60015</td>\n",
       "      <td>54581</td>\n",
       "      <td>False</td>\n",
       "      <td>78</td>\n",
       "      <td>0</td>\n",
       "      <td>2016-08-22T12:10:18Z</td>\n",
       "      <td>2016-08-23T16:59:49Z</td>\n",
       "      <td>455.0</td>\n",
       "      <td>INR</td>\n",
       "      <td>₹455</td>\n",
       "      <td>8640.0</td>\n",
       "      <td>INR</td>\n",
       "      <td>₹8,640</td>\n",
       "    </tr>\n",
       "    <tr>\n",
       "      <th>2</th>\n",
       "      <td>1361790</td>\n",
       "      <td>PMP Exam Prep Seminar -  PMBOK Guide 6</td>\n",
       "      <td>/course/pmp-pmbok6-35-pdus/</td>\n",
       "      <td>True</td>\n",
       "      <td>155282</td>\n",
       "      <td>4.59491</td>\n",
       "      <td>4.59326</td>\n",
       "      <td>4.59326</td>\n",
       "      <td>52653</td>\n",
       "      <td>False</td>\n",
       "      <td>292</td>\n",
       "      <td>2</td>\n",
       "      <td>2017-09-26T16:32:48Z</td>\n",
       "      <td>2017-11-14T23:58:14Z</td>\n",
       "      <td>455.0</td>\n",
       "      <td>INR</td>\n",
       "      <td>₹455</td>\n",
       "      <td>8640.0</td>\n",
       "      <td>INR</td>\n",
       "      <td>₹8,640</td>\n",
       "    </tr>\n",
       "    <tr>\n",
       "      <th>3</th>\n",
       "      <td>648826</td>\n",
       "      <td>The Complete Financial Analyst Course 2020</td>\n",
       "      <td>/course/the-complete-financial-analyst-course/</td>\n",
       "      <td>True</td>\n",
       "      <td>245860</td>\n",
       "      <td>4.54407</td>\n",
       "      <td>4.53772</td>\n",
       "      <td>4.53772</td>\n",
       "      <td>46447</td>\n",
       "      <td>False</td>\n",
       "      <td>338</td>\n",
       "      <td>0</td>\n",
       "      <td>2015-10-23T13:34:35Z</td>\n",
       "      <td>2016-01-21T01:38:48Z</td>\n",
       "      <td>455.0</td>\n",
       "      <td>INR</td>\n",
       "      <td>₹455</td>\n",
       "      <td>8640.0</td>\n",
       "      <td>INR</td>\n",
       "      <td>₹8,640</td>\n",
       "    </tr>\n",
       "    <tr>\n",
       "      <th>4</th>\n",
       "      <td>637930</td>\n",
       "      <td>An Entire MBA in 1 Course:Award Winning Busine...</td>\n",
       "      <td>/course/an-entire-mba-in-1-courseaward-winning...</td>\n",
       "      <td>True</td>\n",
       "      <td>374836</td>\n",
       "      <td>4.47080</td>\n",
       "      <td>4.47173</td>\n",
       "      <td>4.47173</td>\n",
       "      <td>41630</td>\n",
       "      <td>False</td>\n",
       "      <td>83</td>\n",
       "      <td>0</td>\n",
       "      <td>2015-10-12T06:39:46Z</td>\n",
       "      <td>2016-01-11T21:39:33Z</td>\n",
       "      <td>455.0</td>\n",
       "      <td>INR</td>\n",
       "      <td>₹455</td>\n",
       "      <td>8640.0</td>\n",
       "      <td>INR</td>\n",
       "      <td>₹8,640</td>\n",
       "    </tr>\n",
       "  </tbody>\n",
       "</table>\n",
       "</div>"
      ],
      "text/plain": [
       "        id                                              title  \\\n",
       "0   762616  The Complete SQL Bootcamp 2020: Go from Zero t...   \n",
       "1   937678  Tableau 2020 A-Z: Hands-On Tableau Training fo...   \n",
       "2  1361790             PMP Exam Prep Seminar -  PMBOK Guide 6   \n",
       "3   648826         The Complete Financial Analyst Course 2020   \n",
       "4   637930  An Entire MBA in 1 Course:Award Winning Busine...   \n",
       "\n",
       "                                                 url  is_paid  \\\n",
       "0                 /course/the-complete-sql-bootcamp/     True   \n",
       "1                                 /course/tableau10/     True   \n",
       "2                        /course/pmp-pmbok6-35-pdus/     True   \n",
       "3     /course/the-complete-financial-analyst-course/     True   \n",
       "4  /course/an-entire-mba-in-1-courseaward-winning...     True   \n",
       "\n",
       "   num_subscribers  avg_rating  avg_rating_recent   rating  num_reviews  \\\n",
       "0           295509     4.66019            4.67874  4.67874        78006   \n",
       "1           209070     4.58956            4.60015  4.60015        54581   \n",
       "2           155282     4.59491            4.59326  4.59326        52653   \n",
       "3           245860     4.54407            4.53772  4.53772        46447   \n",
       "4           374836     4.47080            4.47173  4.47173        41630   \n",
       "\n",
       "   is_wishlisted  num_published_lectures  num_published_practice_tests  \\\n",
       "0          False                      84                             0   \n",
       "1          False                      78                             0   \n",
       "2          False                     292                             2   \n",
       "3          False                     338                             0   \n",
       "4          False                      83                             0   \n",
       "\n",
       "                created        published_time  discount_price__amount  \\\n",
       "0  2016-02-14T22:57:48Z  2016-04-06T05:16:11Z                   455.0   \n",
       "1  2016-08-22T12:10:18Z  2016-08-23T16:59:49Z                   455.0   \n",
       "2  2017-09-26T16:32:48Z  2017-11-14T23:58:14Z                   455.0   \n",
       "3  2015-10-23T13:34:35Z  2016-01-21T01:38:48Z                   455.0   \n",
       "4  2015-10-12T06:39:46Z  2016-01-11T21:39:33Z                   455.0   \n",
       "\n",
       "  discount_price__currency discount_price__price_string  price_detail__amount  \\\n",
       "0                      INR                         ₹455                8640.0   \n",
       "1                      INR                         ₹455                8640.0   \n",
       "2                      INR                         ₹455                8640.0   \n",
       "3                      INR                         ₹455                8640.0   \n",
       "4                      INR                         ₹455                8640.0   \n",
       "\n",
       "  price_detail__currency price_detail__price_string  \n",
       "0                    INR                     ₹8,640  \n",
       "1                    INR                     ₹8,640  \n",
       "2                    INR                     ₹8,640  \n",
       "3                    INR                     ₹8,640  \n",
       "4                    INR                     ₹8,640  "
      ]
     },
     "execution_count": 27,
     "metadata": {},
     "output_type": "execute_result"
    }
   ],
   "source": [
    "# 2. print first 5 records of dataset\n",
    "data.head()"
   ]
  },
  {
   "cell_type": "code",
   "execution_count": 28,
   "id": "67b22ba0",
   "metadata": {},
   "outputs": [
    {
     "data": {
      "text/plain": [
       "9447"
      ]
     },
     "execution_count": 28,
     "metadata": {},
     "output_type": "execute_result"
    }
   ],
   "source": [
    "# 3. total number of records in the dataset\n",
    "len(data)"
   ]
  },
  {
   "cell_type": "code",
   "execution_count": 29,
   "id": "f4f5be32",
   "metadata": {},
   "outputs": [
    {
     "name": "stdout",
     "output_type": "stream",
     "text": [
      "<class 'pandas.core.frame.DataFrame'>\n",
      "RangeIndex: 9447 entries, 0 to 9446\n",
      "Data columns (total 20 columns):\n",
      " #   Column                        Non-Null Count  Dtype  \n",
      "---  ------                        --------------  -----  \n",
      " 0   id                            9447 non-null   int64  \n",
      " 1   title                         9447 non-null   object \n",
      " 2   url                           9447 non-null   object \n",
      " 3   is_paid                       9447 non-null   bool   \n",
      " 4   num_subscribers               9447 non-null   int64  \n",
      " 5   avg_rating                    9447 non-null   float64\n",
      " 6   avg_rating_recent             9447 non-null   float64\n",
      " 7   rating                        9447 non-null   float64\n",
      " 8   num_reviews                   9447 non-null   int64  \n",
      " 9   is_wishlisted                 9447 non-null   bool   \n",
      " 10  num_published_lectures        9447 non-null   int64  \n",
      " 11  num_published_practice_tests  9447 non-null   int64  \n",
      " 12  created                       9447 non-null   object \n",
      " 13  published_time                9447 non-null   object \n",
      " 14  discount_price__amount        8937 non-null   float64\n",
      " 15  discount_price__currency      8937 non-null   object \n",
      " 16  discount_price__price_string  8937 non-null   object \n",
      " 17  price_detail__amount          9447 non-null   float64\n",
      " 18  price_detail__currency        9447 non-null   object \n",
      " 19  price_detail__price_string    9447 non-null   object \n",
      "dtypes: bool(2), float64(5), int64(5), object(8)\n",
      "memory usage: 1.3+ MB\n"
     ]
    }
   ],
   "source": [
    "# 4. print the information about the dataset (all the columns and data contains, type, size etc)\n",
    "data.info()"
   ]
  },
  {
   "cell_type": "code",
   "execution_count": 30,
   "id": "19113e25",
   "metadata": {},
   "outputs": [
    {
     "data": {
      "text/plain": [
       "9447"
      ]
     },
     "execution_count": 30,
     "metadata": {},
     "output_type": "execute_result"
    }
   ],
   "source": [
    "# 5. How many total courses offering udemy?\n",
    "data['id'].count()"
   ]
  },
  {
   "cell_type": "code",
   "execution_count": 31,
   "id": "98a08eb0",
   "metadata": {},
   "outputs": [
    {
     "data": {
      "text/plain": [
       "60"
      ]
     },
     "execution_count": 31,
     "metadata": {},
     "output_type": "execute_result"
    }
   ],
   "source": [
    "# 6. The total number of python courses in udemy?\n",
    "len(data[data[\"title\"].str.contains(\"Python\",\"python\")])"
   ]
  },
  {
   "cell_type": "code",
   "execution_count": 32,
   "id": "8a8d5ba1",
   "metadata": {},
   "outputs": [
    {
     "data": {
      "text/plain": [
       "57"
      ]
     },
     "execution_count": 32,
     "metadata": {},
     "output_type": "execute_result"
    }
   ],
   "source": [
    "# 7. The number of boot camps in udemy?\n",
    "len(data[data['title'].str.contains(\"Bootcamp|bootcamp\")])"
   ]
  },
  {
   "cell_type": "code",
   "execution_count": 35,
   "id": "84a1a2c9",
   "metadata": {},
   "outputs": [
    {
     "data": {
      "text/plain": [
       "3872    The Ultimate Startup Quiz for Entrepreneurs\n",
       "Name: title, dtype: object"
      ]
     },
     "execution_count": 35,
     "metadata": {},
     "output_type": "execute_result"
    }
   ],
   "source": [
    "# 8. The number and names of Quizzes in udemy?\n",
    "data[data['title'].str.contains(\"Quiz|Quizzes|quiz|quizzes\")]['title']"
   ]
  },
  {
   "cell_type": "code",
   "execution_count": 36,
   "id": "56991f86",
   "metadata": {},
   "outputs": [
    {
     "name": "stdout",
     "output_type": "stream",
     "text": [
      "5 star rating courses :  101\n"
     ]
    },
    {
     "data": {
      "text/html": [
       "<div>\n",
       "<style scoped>\n",
       "    .dataframe tbody tr th:only-of-type {\n",
       "        vertical-align: middle;\n",
       "    }\n",
       "\n",
       "    .dataframe tbody tr th {\n",
       "        vertical-align: top;\n",
       "    }\n",
       "\n",
       "    .dataframe thead th {\n",
       "        text-align: right;\n",
       "    }\n",
       "</style>\n",
       "<table border=\"1\" class=\"dataframe\">\n",
       "  <thead>\n",
       "    <tr style=\"text-align: right;\">\n",
       "      <th></th>\n",
       "      <th>id</th>\n",
       "      <th>title</th>\n",
       "      <th>url</th>\n",
       "      <th>is_paid</th>\n",
       "      <th>num_subscribers</th>\n",
       "      <th>avg_rating</th>\n",
       "      <th>avg_rating_recent</th>\n",
       "      <th>rating</th>\n",
       "      <th>num_reviews</th>\n",
       "      <th>is_wishlisted</th>\n",
       "      <th>num_published_lectures</th>\n",
       "      <th>num_published_practice_tests</th>\n",
       "      <th>created</th>\n",
       "      <th>published_time</th>\n",
       "      <th>discount_price__amount</th>\n",
       "      <th>discount_price__currency</th>\n",
       "      <th>discount_price__price_string</th>\n",
       "      <th>price_detail__amount</th>\n",
       "      <th>price_detail__currency</th>\n",
       "      <th>price_detail__price_string</th>\n",
       "    </tr>\n",
       "  </thead>\n",
       "  <tbody>\n",
       "    <tr>\n",
       "      <th>3085</th>\n",
       "      <td>1538742</td>\n",
       "      <td>Advanced Upwork Interviews: A Simple Way to Ea...</td>\n",
       "      <td>/course/upwork-interviews/</td>\n",
       "      <td>True</td>\n",
       "      <td>508</td>\n",
       "      <td>5.0</td>\n",
       "      <td>5.0</td>\n",
       "      <td>5.0</td>\n",
       "      <td>71</td>\n",
       "      <td>False</td>\n",
       "      <td>26</td>\n",
       "      <td>0</td>\n",
       "      <td>2018-02-03T11:23:55Z</td>\n",
       "      <td>2018-04-25T19:14:20Z</td>\n",
       "      <td>455.0</td>\n",
       "      <td>INR</td>\n",
       "      <td>₹455</td>\n",
       "      <td>8640.0</td>\n",
       "      <td>INR</td>\n",
       "      <td>₹8,640</td>\n",
       "    </tr>\n",
       "    <tr>\n",
       "      <th>4341</th>\n",
       "      <td>2350744</td>\n",
       "      <td>Price Action: The complete Price Action Master...</td>\n",
       "      <td>/course/daytrading-masterclass/</td>\n",
       "      <td>True</td>\n",
       "      <td>439</td>\n",
       "      <td>5.0</td>\n",
       "      <td>5.0</td>\n",
       "      <td>5.0</td>\n",
       "      <td>38</td>\n",
       "      <td>False</td>\n",
       "      <td>71</td>\n",
       "      <td>0</td>\n",
       "      <td>2019-05-03T10:42:13Z</td>\n",
       "      <td>2019-05-16T16:22:11Z</td>\n",
       "      <td>455.0</td>\n",
       "      <td>INR</td>\n",
       "      <td>₹455</td>\n",
       "      <td>8640.0</td>\n",
       "      <td>INR</td>\n",
       "      <td>₹8,640</td>\n",
       "    </tr>\n",
       "    <tr>\n",
       "      <th>5108</th>\n",
       "      <td>1531238</td>\n",
       "      <td>New! Raise funds for your innovative business ...</td>\n",
       "      <td>/course/eu-grant-funding-innovative-business/</td>\n",
       "      <td>True</td>\n",
       "      <td>2233</td>\n",
       "      <td>5.0</td>\n",
       "      <td>5.0</td>\n",
       "      <td>5.0</td>\n",
       "      <td>28</td>\n",
       "      <td>False</td>\n",
       "      <td>10</td>\n",
       "      <td>0</td>\n",
       "      <td>2018-01-29T16:22:48Z</td>\n",
       "      <td>2018-02-21T19:15:44Z</td>\n",
       "      <td>NaN</td>\n",
       "      <td>NaN</td>\n",
       "      <td>NaN</td>\n",
       "      <td>9600.0</td>\n",
       "      <td>INR</td>\n",
       "      <td>₹9,600</td>\n",
       "    </tr>\n",
       "    <tr>\n",
       "      <th>6000</th>\n",
       "      <td>60463</td>\n",
       "      <td>Shipping address and Shipping cost for E-comme...</td>\n",
       "      <td>/course/ecommerce-shipping/</td>\n",
       "      <td>True</td>\n",
       "      <td>130</td>\n",
       "      <td>5.0</td>\n",
       "      <td>5.0</td>\n",
       "      <td>5.0</td>\n",
       "      <td>19</td>\n",
       "      <td>False</td>\n",
       "      <td>180</td>\n",
       "      <td>0</td>\n",
       "      <td>2013-06-17T07:30:39Z</td>\n",
       "      <td>2013-07-12T13:34:35Z</td>\n",
       "      <td>NaN</td>\n",
       "      <td>NaN</td>\n",
       "      <td>NaN</td>\n",
       "      <td>1280.0</td>\n",
       "      <td>INR</td>\n",
       "      <td>₹1,280</td>\n",
       "    </tr>\n",
       "    <tr>\n",
       "      <th>6084</th>\n",
       "      <td>3339914</td>\n",
       "      <td>Emotional Intelligence Training for Increased ...</td>\n",
       "      <td>/course/emotional-intelligence-to-increase-sales/</td>\n",
       "      <td>True</td>\n",
       "      <td>38</td>\n",
       "      <td>5.0</td>\n",
       "      <td>5.0</td>\n",
       "      <td>5.0</td>\n",
       "      <td>18</td>\n",
       "      <td>False</td>\n",
       "      <td>14</td>\n",
       "      <td>0</td>\n",
       "      <td>2020-07-17T08:06:47Z</td>\n",
       "      <td>2020-07-24T18:12:43Z</td>\n",
       "      <td>455.0</td>\n",
       "      <td>INR</td>\n",
       "      <td>₹455</td>\n",
       "      <td>6400.0</td>\n",
       "      <td>INR</td>\n",
       "      <td>₹6,400</td>\n",
       "    </tr>\n",
       "  </tbody>\n",
       "</table>\n",
       "</div>"
      ],
      "text/plain": [
       "           id                                              title  \\\n",
       "3085  1538742  Advanced Upwork Interviews: A Simple Way to Ea...   \n",
       "4341  2350744  Price Action: The complete Price Action Master...   \n",
       "5108  1531238  New! Raise funds for your innovative business ...   \n",
       "6000    60463  Shipping address and Shipping cost for E-comme...   \n",
       "6084  3339914  Emotional Intelligence Training for Increased ...   \n",
       "\n",
       "                                                    url  is_paid  \\\n",
       "3085                         /course/upwork-interviews/     True   \n",
       "4341                    /course/daytrading-masterclass/     True   \n",
       "5108      /course/eu-grant-funding-innovative-business/     True   \n",
       "6000                        /course/ecommerce-shipping/     True   \n",
       "6084  /course/emotional-intelligence-to-increase-sales/     True   \n",
       "\n",
       "      num_subscribers  avg_rating  avg_rating_recent  rating  num_reviews  \\\n",
       "3085              508         5.0                5.0     5.0           71   \n",
       "4341              439         5.0                5.0     5.0           38   \n",
       "5108             2233         5.0                5.0     5.0           28   \n",
       "6000              130         5.0                5.0     5.0           19   \n",
       "6084               38         5.0                5.0     5.0           18   \n",
       "\n",
       "      is_wishlisted  num_published_lectures  num_published_practice_tests  \\\n",
       "3085          False                      26                             0   \n",
       "4341          False                      71                             0   \n",
       "5108          False                      10                             0   \n",
       "6000          False                     180                             0   \n",
       "6084          False                      14                             0   \n",
       "\n",
       "                   created        published_time  discount_price__amount  \\\n",
       "3085  2018-02-03T11:23:55Z  2018-04-25T19:14:20Z                   455.0   \n",
       "4341  2019-05-03T10:42:13Z  2019-05-16T16:22:11Z                   455.0   \n",
       "5108  2018-01-29T16:22:48Z  2018-02-21T19:15:44Z                     NaN   \n",
       "6000  2013-06-17T07:30:39Z  2013-07-12T13:34:35Z                     NaN   \n",
       "6084  2020-07-17T08:06:47Z  2020-07-24T18:12:43Z                   455.0   \n",
       "\n",
       "     discount_price__currency discount_price__price_string  \\\n",
       "3085                      INR                         ₹455   \n",
       "4341                      INR                         ₹455   \n",
       "5108                      NaN                          NaN   \n",
       "6000                      NaN                          NaN   \n",
       "6084                      INR                         ₹455   \n",
       "\n",
       "      price_detail__amount price_detail__currency price_detail__price_string  \n",
       "3085                8640.0                    INR                     ₹8,640  \n",
       "4341                8640.0                    INR                     ₹8,640  \n",
       "5108                9600.0                    INR                     ₹9,600  \n",
       "6000                1280.0                    INR                     ₹1,280  \n",
       "6084                6400.0                    INR                     ₹6,400  "
      ]
     },
     "execution_count": 36,
     "metadata": {},
     "output_type": "execute_result"
    }
   ],
   "source": [
    "# 9. The number amd name of 5-star rating courses?\n",
    "print(\"5 star rating courses : \",len(data[data['rating']==5.0]))\n",
    "data[data['rating']==5.0].head()"
   ]
  },
  {
   "cell_type": "code",
   "execution_count": 37,
   "id": "03666cb1",
   "metadata": {},
   "outputs": [],
   "source": [
    "# 10. graph of rating?\n"
   ]
  },
  {
   "cell_type": "code",
   "execution_count": 38,
   "id": "f3e51c15",
   "metadata": {},
   "outputs": [
    {
     "name": "stdout",
     "output_type": "stream",
     "text": [
      "number of subscriber :  374836\n",
      "course name:  An Entire MBA in 1 Course:Award Winning Business School Prof\n"
     ]
    }
   ],
   "source": [
    "# 11. What Course have the most number of subscribers?\n",
    "ms=data.num_subscribers.max()\n",
    "print(\"number of subscriber : \",ms)\n",
    "print(\"course name: \",list(data[data.num_subscribers==ms].title)[0])"
   ]
  },
  {
   "cell_type": "code",
   "execution_count": 39,
   "id": "e0ea0cc5",
   "metadata": {},
   "outputs": [
    {
     "name": "stdout",
     "output_type": "stream",
     "text": [
      "number of subscriber :  3\n",
      "course name:  Crowdfunding Training Course: Everything You Need to Know\n"
     ]
    }
   ],
   "source": [
    "# 11. What Course have the most number of subscribers?\n",
    "ms=data.num_subscribers.min()\n",
    "print(\"number of subscriber : \",ms)\n",
    "print(\"course name: \",list(data[data.num_subscribers==ms].title)[0])"
   ]
  },
  {
   "cell_type": "code",
   "execution_count": 40,
   "id": "b9e8495c",
   "metadata": {},
   "outputs": [
    {
     "name": "stdout",
     "output_type": "stream",
     "text": [
      "number of reviews :  78006\n",
      "course name:  The Complete SQL Bootcamp 2020: Go from Zero to Hero\n"
     ]
    }
   ],
   "source": [
    "# 12. What courses have the most reviews?\n",
    "ms=data.num_reviews.max()\n",
    "print(\"number of reviews : \",ms)\n",
    "print(\"course name: \",list(data[data.num_reviews==ms].title)[0])"
   ]
  },
  {
   "cell_type": "code",
   "execution_count": 41,
   "id": "f2a68300",
   "metadata": {},
   "outputs": [
    {
     "name": "stdout",
     "output_type": "stream",
     "text": [
      "number of reviews :  3\n",
      "course name:  Secrets to Sell Your Car Online and Earn Hundreds More \n"
     ]
    }
   ],
   "source": [
    "# 12. What courses have the least reviews?\n",
    "ms=data.num_reviews.min()\n",
    "print(\"number of reviews : \",ms)\n",
    "print(\"course name: \",list(data[data.num_reviews==ms].title)[0])"
   ]
  },
  {
   "cell_type": "code",
   "execution_count": 42,
   "id": "c666f762",
   "metadata": {},
   "outputs": [
    {
     "name": "stdout",
     "output_type": "stream",
     "text": [
      "course name :  Accounting–Financial Accounting Total-Beginners to Advanced\n",
      "Number of lectures published :  699\n"
     ]
    }
   ],
   "source": [
    "# 13. longest course ?\n",
    "ms=data.num_published_lectures.max()\n",
    "print(\"course name : \",list(data[data.num_published_lectures==ms].title)[0])\n",
    "print(\"Number of lectures published : \",ms)"
   ]
  },
  {
   "cell_type": "code",
   "execution_count": 62,
   "id": "099f56f1",
   "metadata": {},
   "outputs": [
    {
     "name": "stdout",
     "output_type": "stream",
     "text": [
      "{'2016': 1077, '2017': 1489, '2014': 616, '2018': 1906, '2015': 1276, '2013': 310, '2019': 1564, '2020': 1135, '2012': 64, '2010': 1, '2011': 9}\n"
     ]
    }
   ],
   "source": [
    "# 14. number of courses published in diffrent year graphical representation...\n",
    "import collections\n",
    "dp=list(data.published_time)\n",
    "dp=[x[0:4] for x in dp]\n",
    "frequency = collections.Counter(dp)\n",
    "print(dict(frequency))\n",
    "\n"
   ]
  },
  {
   "cell_type": "code",
   "execution_count": 17,
   "id": "18183615",
   "metadata": {},
   "outputs": [
    {
     "name": "stdout",
     "output_type": "stream",
     "text": [
      "Course name :  Certified Quality Engineer Training\n",
      "Discount price(INR) :  3200.0\n"
     ]
    }
   ],
   "source": [
    "# 15.  highest discount offering in course?\n",
    "ms=data.discount_price__amount.max()\n",
    "print(\"Course name : \",list(data[data.discount_price__amount==ms].title)[2])\n",
    "print(\"Discount price(INR) : \",ms)"
   ]
  },
  {
   "cell_type": "code",
   "execution_count": 18,
   "id": "edec1c57",
   "metadata": {},
   "outputs": [
    {
     "name": "stdout",
     "output_type": "stream",
     "text": [
      "Best course to learn Big Data :  The Ultimate Hands-On Hadoop - Tame your Big Data!\n",
      "Price of the course :  8640.0\n",
      "Discount of the course :  455.0\n",
      "Number of Subscriber :  114945\n",
      "Number of Subscriber :  21394\n"
     ]
    }
   ],
   "source": [
    "# 16. What is the best course in udemy for Big Data?\n",
    "bigdata=data[data['title'].str.contains(\"Big Data\")]\n",
    "ms=bigdata.rating.max()\n",
    "print(\"Best course to learn Big Data : \",list(bigdata[bigdata.rating==ms].title)[0])\n",
    "print(\"Price of the course : \",list(bigdata[bigdata.rating==ms].price_detail__amount)[0])\n",
    "print(\"Discount of the course : \",list(bigdata[bigdata.rating==ms].discount_price__amount)[0])\n",
    "print(\"Number of Subscriber : \",list(bigdata[bigdata.rating==ms].num_subscribers)[0])\n",
    "print(\"Number of Subscriber : \",list(bigdata[bigdata.rating==ms].num_reviews)[0])"
   ]
  },
  {
   "cell_type": "code",
   "execution_count": 19,
   "id": "8682d841",
   "metadata": {
    "scrolled": true
   },
   "outputs": [
    {
     "name": "stdout",
     "output_type": "stream",
     "text": [
      "Best course to learn Big Data :  Advanced SQL + MySQL for Analytics & Business Intelligence\n",
      "Price of the course :  8640.0\n",
      "Discount of the course :  455.0\n",
      "Number of Subscriber :  17807\n",
      "Number of Subscriber :  1049\n"
     ]
    }
   ],
   "source": [
    "# 16. What is the best course in udemy for MySQL?\n",
    "bigdata=data[data['title'].str.contains(\"MySQL\")]\n",
    "ms=bigdata.rating.max()\n",
    "print(\"Best course to learn Big Data : \",list(bigdata[bigdata.rating==ms].title)[0])\n",
    "print(\"Price of the course : \",list(bigdata[bigdata.rating==ms].price_detail__amount)[0])\n",
    "print(\"Discount of the course : \",list(bigdata[bigdata.rating==ms].discount_price__amount)[0])\n",
    "print(\"Number of Subscriber : \",list(bigdata[bigdata.rating==ms].num_subscribers)[0])\n",
    "print(\"Number of Subscriber : \",list(bigdata[bigdata.rating==ms].num_reviews)[0])"
   ]
  },
  {
   "cell_type": "code",
   "execution_count": 44,
   "id": "e599f1f7",
   "metadata": {},
   "outputs": [
    {
     "name": "stdout",
     "output_type": "stream",
     "text": [
      "SQL=  43 \n",
      "Python=  60 \n",
      "AI=  24 \n",
      "Marketing=  227 \n",
      "Big Data=  11\n"
     ]
    },
    {
     "data": {
      "image/png": "[encoded data removed]",
      "text/plain": [
       "<Figure size 432x288 with 1 Axes>"
      ]
     },
     "metadata": {},
     "output_type": "display_data"
    }
   ],
   "source": [
    "# 17. How many courses are there for diffrent technology show graphically.\n",
    "sql=len(data[data['title'].str.contains(\"SQL\")])\n",
    "python=len(data[data['title'].str.contains(\"Python\")])\n",
    "ai=len(data[data['title'].str.contains(\"AI\")])\n",
    "mark=len(data[data['title'].str.contains(\"Marketing\",\"marketing\")])\n",
    "big=len(data[data['title'].str.contains(\"Big Data\")])\n",
    "print(\"SQL= \",sql,\"\\nPython= \",python,\"\\nAI= \",ai,\"\\nMarketing= \",mark,\"\\nBig Data= \",big)\n",
    "\n",
    "da = [sql,python,ai,mark,big]\n",
    "keys = ['SQL', 'Python', 'AI', 'Marketing', 'Big Data']\n",
    "plt.pie(da, labels=keys)\n",
    "plt.show()\n",
    "\n",
    "  "
   ]
  },
  {
   "cell_type": "code",
   "execution_count": 64,
   "id": "4de33979",
   "metadata": {},
   "outputs": [
    {
     "data": {
      "image/png": "[encoded data removed]",
      "text/plain": [
       "<Figure size 432x288 with 1 Axes>"
      ]
     },
     "metadata": {
      "needs_background": "light"
     },
     "output_type": "display_data"
    }
   ],
   "source": [
    "# lineplotter\n",
    "val=frequency.values()\n",
    "lab=frequency.keys()\n",
    "plt.plot(lab,val)\n",
    "plt.xlabel(\"Years\")\n",
    "plt.ylabel(\"Number of Courses\")\n",
    "plt.show()\n",
    "\n"
   ]
  }
 ],
 "metadata": {
  "kernelspec": {
   "display_name": "Python 3 (ipykernel)",
   "language": "python",
   "name": "python3"
  },
  "language_info": {
   "codemirror_mode": {
    "name": "ipython",
    "version": 3
   },
   "file_extension": ".py",
   "mimetype": "text/x-python",
   "name": "python",
   "nbconvert_exporter": "python",
   "pygments_lexer": "ipython3",
   "version": "3.10.5"
  }
 },
 "nbformat": 4,
 "nbformat_minor": 5
}
